{
  "cells": [
    {
      "cell_type": "markdown",
      "metadata": {
        "id": "Ac7-1RO2HZbg"
      },
      "source": [
        "# **Importing Libraries**"
      ]
    },
    {
      "cell_type": "code",
      "execution_count": 1,
      "metadata": {
        "colab": {
          "base_uri": "https://localhost:8080/"
        },
        "id": "EiZCw-DZRXSi",
        "outputId": "c3c7f2ca-41e9-42f3-df3d-e382eee7756e"
      },
      "outputs": [
        {
          "output_type": "stream",
          "name": "stderr",
          "text": [
            "/usr/local/lib/python3.7/dist-packages/psycopg2/__init__.py:144: UserWarning: The psycopg2 wheel package will be renamed from release 2.8; in order to keep installing from binary please use \"pip install psycopg2-binary\" instead. For details see: <http://initd.org/psycopg/docs/install.html#binary-install-from-pypi>.\n",
            "  \"\"\")\n"
          ]
        }
      ],
      "source": [
        "import numpy as np\n",
        "import seaborn as sns\n",
        "import matplotlib.pyplot as plt\n",
        "\n",
        "import pandas as pd\n",
        "import psycopg2\n",
        "from psycopg2.extras import RealDictCursor\n",
        "\n",
        "from sklearn.metrics import accuracy_score,classification_report,confusion_matrix\n",
        "from sklearn.metrics import roc_auc_score\n",
        "from sklearn.model_selection import train_test_split\n",
        "from sklearn.tree import DecisionTreeClassifier\n",
        "from sklearn.preprocessing import OneHotEncoder\n",
        "from sklearn.compose import make_column_transformer\n",
        "from sklearn.ensemble import RandomForestClassifier\n",
        "%matplotlib inline"
      ]
    },
    {
      "cell_type": "code",
      "execution_count": 2,
      "metadata": {
        "id": "AFDq-no8Rqrz"
      },
      "outputs": [],
      "source": [
        "def query_db(query):\n",
        " '''\n",
        "    Runs sql query on 311 database and returns a pandas DataFrame.\n",
        "    Redshift is a data warehouse based on PostgreSQL, so syntax is mostly the same\n",
        "    '''\n",
        " host = 'interview-ds.ckgnwnm6pw4o.us-east-1.redshift.amazonaws.com'\n",
        " port = 5439\n",
        " db = 'interview'\n",
        " username = 'dsguest'\n",
        " password = 'nX9EFYUZ5Yu#0q'\n",
        " conn = psycopg2.connect(host=host, port=port, dbname=db, user=username, password=password)\n",
        " cur = conn.cursor(cursor_factory=psycopg2.extras.RealDictCursor)\n",
        " cur.execute(query)\n",
        " rows = cur.fetchall()\n",
        " \n",
        " rows = pd.DataFrame(rows)\n",
        " return rows\n",
        "# Example usage:\n",
        "#rows= (query_db(\"SELECT unique_key, created_date, agency, complaint_type,incident_zip, city ,borough, vehicle_type FROM public.three_one_one WHERE created_date >= '2020-01-01';\"))\n"
      ]
    },
    {
      "cell_type": "code",
      "execution_count": 3,
      "metadata": {
        "id": "cGLe5yHtIe1d"
      },
      "outputs": [],
      "source": [
        "\"\"\"Querying only the data after 2019-01-01\"\"\"\n",
        "\n",
        "dataset= (query_db(\"SELECT * FROM public.three_one_one WHERE created_date >= '2019-01-01';\"))"
      ]
    },
    {
      "cell_type": "markdown",
      "metadata": {
        "id": "kYVx1xrhHOPd"
      },
      "source": [
        "# **Data Cleaning and Preprocessing**"
      ]
    },
    {
      "cell_type": "code",
      "execution_count": 4,
      "metadata": {
        "id": "QKUqOJ2ff4y1"
      },
      "outputs": [],
      "source": [
        "threshold = 0.7\n",
        "#Dropping columns with missing value rate higher than threshold\n",
        "data = dataset[dataset.columns[dataset.isnull().mean() < threshold]]\n",
        "\n",
        "#Dropping rows with missing value rate higher than threshold\n",
        "data = dataset.loc[dataset.isnull().mean(axis=1) < threshold]\n",
        "\n",
        "del dataset"
      ]
    },
    {
      "cell_type": "code",
      "execution_count": 5,
      "metadata": {
        "id": "S0Jlc_XvlgeI"
      },
      "outputs": [],
      "source": [
        "\"\"\"Dropping few columns since Ram cannot handle so much data. Reason being too many categorical features which need to be onehot encoded\"\"\"\n",
        "\n",
        "# data= data.drop(['unique_key', 'descriptor', 'vehicle_type', 'taxi_company_borough','street_name', 'taxi_pick_up_location','bridge_highway_name', 'landmark', 'bridge_highway_direction','cross_street_1',\n",
        "#  'cross_street_2','intersection_street_1','intersection_street_2', 'road_ramp', 'bridge_highway_segment','location', 'park_facility_name', 'agency_name', 'facility_type' ,'resolution_description','community_board'], axis= 1)\n",
        "# data=data.drop('incident_address', axis= 1)\n",
        "# data=data.drop('resolution_action_updated_date', axis= 1)\n",
        "# data=data.drop('bbl', axis= 1)\n",
        "data= data[['agency', 'complaint_type' , 'location_type' , 'incident_zip', 'city' , 'status', 'closed_date',  'latitude', 'longitude', 'x_coordinate_state_plane', 'y_coordinate_state_plane' , 'created_date']]\n"
      ]
    },
    {
      "cell_type": "code",
      "execution_count": 6,
      "metadata": {
        "colab": {
          "base_uri": "https://localhost:8080/"
        },
        "id": "Wg7rzwj6DIii",
        "outputId": "ec526083-cf94-48e6-b4ac-7a2ba0bc7118"
      },
      "outputs": [
        {
          "output_type": "stream",
          "name": "stdout",
          "text": [
            "LIST OF COLUMNS WITH NULL VALUES \n",
            "\n",
            "-  incident_zip\n",
            "-  closed_date\n",
            "-  latitude\n",
            "-  longitude\n",
            "-  x_coordinate_state_plane\n",
            "-  y_coordinate_state_plane\n"
          ]
        }
      ],
      "source": [
        "\"\"\"Checking to see whether any column has null values\"\"\"\n",
        "check_na_dict ={}\n",
        "check_na= []\n",
        "print(\"LIST OF COLUMNS WITH NULL VALUES \\n\")\n",
        "for i in data.columns:\n",
        "  val = data[i].isna().any()\n",
        "  check_na.append(val)\n",
        "  check_na_dict[i] = val \n",
        "  if val == True:\n",
        "    print(\"- \",i)"
      ]
    },
    {
      "cell_type": "code",
      "execution_count": 7,
      "metadata": {
        "id": "zIRTc-Y584of"
      },
      "outputs": [],
      "source": [
        "\n",
        "\n",
        "data['Resolving_time'] = data['closed_date'].dt.date - data['created_date'].dt.date\n",
        "mean_resolution_time_complaint_type= data[['complaint_type','Resolving_time']].groupby('complaint_type').mean()\n",
        "\n",
        "\"\"\"Filling closed dates Nan values with created_date + mean of resolution time for each complaint_type\"\"\"\n",
        "\n",
        "for i in data['complaint_type'].unique():\n",
        "  data['closed_date'][data['complaint_type']==i].fillna(mean_resolution_time_complaint_type.loc[i] + data['created_date'][data['complaint_type']==i])\n",
        "\n",
        "\"\"\"seprating  dates into years, days and months\"\"\"\n",
        "\n",
        "data[\"created_dates_year\"],data[\"created_dates_month\"],data[\"created_dates_day\"] = pd.to_datetime(data['created_date']).dt.year, pd.to_datetime(data['created_date']).dt.month, pd.to_datetime(data['created_date']).dt.day\n",
        "data[\"closed_date_year\"],data[\"closed_date_month\"],data[\"closed_date_day\"] = pd.to_datetime(data['closed_date']).dt.year, pd.to_datetime(data['closed_date']).dt.month, pd.to_datetime(data['closed_date']).dt.day\n",
        "data= data.drop(['created_date','closed_date', 'Resolving_time'],axis=1)"
      ]
    },
    {
      "cell_type": "code",
      "execution_count": 8,
      "metadata": {
        "id": "WuG76nZK0lM_"
      },
      "outputs": [],
      "source": [
        "\"\"\"Changing data types of the numerical columns from object to numeric\"\"\"\n",
        "\n",
        "data[['latitude', 'longitude','x_coordinate_state_plane', 'y_coordinate_state_plane']] = data[['latitude', 'longitude','x_coordinate_state_plane', 'y_coordinate_state_plane']].astype(np.float64)"
      ]
    },
    {
      "cell_type": "code",
      "execution_count": 9,
      "metadata": {
        "id": "Cc-CUop5RmoO"
      },
      "outputs": [],
      "source": [
        "\"\"\"Replacing Nan Values \"\"\"\n",
        "\n",
        "data['incident_zip']= data['incident_zip'].fillna(data['incident_zip'].mode())\n",
        "\n",
        "data=data.dropna()"
      ]
    },
    {
      "cell_type": "code",
      "execution_count": 10,
      "metadata": {
        "colab": {
          "base_uri": "https://localhost:8080/"
        },
        "id": "HMuIF_HH_uqr",
        "outputId": "6feebeb6-b4ca-4c70-9da0-f3c7d4d1dfc9"
      },
      "outputs": [
        {
          "output_type": "execute_result",
          "data": {
            "text/plain": [
              "Index(['agency', 'complaint_type', 'location_type', 'incident_zip', 'city',\n",
              "       'status', 'latitude', 'longitude', 'x_coordinate_state_plane',\n",
              "       'y_coordinate_state_plane', 'created_dates_year', 'created_dates_month',\n",
              "       'created_dates_day', 'closed_date_year', 'closed_date_month',\n",
              "       'closed_date_day'],\n",
              "      dtype='object')"
            ]
          },
          "metadata": {},
          "execution_count": 10
        }
      ],
      "source": [
        "\"\"\"Printing Column names\"\"\"\n",
        "data.columns"
      ]
    },
    {
      "cell_type": "markdown",
      "metadata": {
        "id": "jAVyDkWxRr10"
      },
      "source": [
        "Observation\n",
        "\n",
        "*   highest correlation between created_dates and closed_dates in months and days. The reason behind this is that most complaints are responded to with in the same month and within few days. \n"
      ]
    },
    {
      "cell_type": "code",
      "execution_count": 11,
      "metadata": {
        "colab": {
          "base_uri": "https://localhost:8080/",
          "height": 458
        },
        "id": "QhNPHDvpGmXi",
        "outputId": "3a63b62e-8077-49bb-cf5d-00a257e3c9c4"
      },
      "outputs": [
        {
          "output_type": "execute_result",
          "data": {
            "text/plain": [
              "                          incident_zip  latitude  longitude  \\\n",
              "incident_zip                  1.000000 -0.506543   0.425773   \n",
              "latitude                     -0.506543  1.000000   0.380005   \n",
              "longitude                     0.425773  0.380005   1.000000   \n",
              "x_coordinate_state_plane      0.426514  0.379011   0.999999   \n",
              "y_coordinate_state_plane     -0.506293  1.000000   0.380492   \n",
              "created_dates_year                 NaN       NaN        NaN   \n",
              "created_dates_month           0.012698 -0.007265   0.013571   \n",
              "created_dates_day            -0.001882  0.001957  -0.000418   \n",
              "closed_date_year             -0.000663  0.000299   0.000374   \n",
              "closed_date_month             0.005075 -0.001118   0.012187   \n",
              "closed_date_day              -0.001248  0.001449   0.001383   \n",
              "\n",
              "                          x_coordinate_state_plane  y_coordinate_state_plane  \\\n",
              "incident_zip                              0.426514                 -0.506293   \n",
              "latitude                                  0.379011                  1.000000   \n",
              "longitude                                 0.999999                  0.380492   \n",
              "x_coordinate_state_plane                  1.000000                  0.379499   \n",
              "y_coordinate_state_plane                  0.379499                  1.000000   \n",
              "created_dates_year                             NaN                       NaN   \n",
              "created_dates_month                       0.013590                 -0.007249   \n",
              "created_dates_day                        -0.000422                  0.001957   \n",
              "closed_date_year                          0.000373                  0.000299   \n",
              "closed_date_month                         0.012208                 -0.001107   \n",
              "closed_date_day                           0.001381                  0.001450   \n",
              "\n",
              "                          created_dates_year  created_dates_month  \\\n",
              "incident_zip                             NaN             0.012698   \n",
              "latitude                                 NaN            -0.007265   \n",
              "longitude                                NaN             0.013571   \n",
              "x_coordinate_state_plane                 NaN             0.013590   \n",
              "y_coordinate_state_plane                 NaN            -0.007249   \n",
              "created_dates_year                       NaN                  NaN   \n",
              "created_dates_month                      NaN             1.000000   \n",
              "created_dates_day                        NaN            -0.078489   \n",
              "closed_date_year                         NaN             0.001749   \n",
              "closed_date_month                        NaN             0.963373   \n",
              "closed_date_day                          NaN            -0.032901   \n",
              "\n",
              "                          created_dates_day  closed_date_year  \\\n",
              "incident_zip                      -0.001882         -0.000663   \n",
              "latitude                           0.001957          0.000299   \n",
              "longitude                         -0.000418          0.000374   \n",
              "x_coordinate_state_plane          -0.000422          0.000373   \n",
              "y_coordinate_state_plane           0.001957          0.000299   \n",
              "created_dates_year                      NaN               NaN   \n",
              "created_dates_month               -0.078489          0.001749   \n",
              "created_dates_day                  1.000000         -0.000658   \n",
              "closed_date_year                  -0.000658          1.000000   \n",
              "closed_date_month                 -0.021809         -0.004141   \n",
              "closed_date_day                    0.576420         -0.002011   \n",
              "\n",
              "                          closed_date_month  closed_date_day  \n",
              "incident_zip                       0.005075        -0.001248  \n",
              "latitude                          -0.001118         0.001449  \n",
              "longitude                          0.012187         0.001383  \n",
              "x_coordinate_state_plane           0.012208         0.001381  \n",
              "y_coordinate_state_plane          -0.001107         0.001450  \n",
              "created_dates_year                      NaN              NaN  \n",
              "created_dates_month                0.963373        -0.032901  \n",
              "created_dates_day                 -0.021809         0.576420  \n",
              "closed_date_year                  -0.004141        -0.002011  \n",
              "closed_date_month                  1.000000        -0.086715  \n",
              "closed_date_day                   -0.086715         1.000000  "
            ],
            "text/html": [
              "\n",
              "  <div id=\"df-1e1823b7-93ab-48a6-91bd-aaa4dff56944\">\n",
              "    <div class=\"colab-df-container\">\n",
              "      <div>\n",
              "<style scoped>\n",
              "    .dataframe tbody tr th:only-of-type {\n",
              "        vertical-align: middle;\n",
              "    }\n",
              "\n",
              "    .dataframe tbody tr th {\n",
              "        vertical-align: top;\n",
              "    }\n",
              "\n",
              "    .dataframe thead th {\n",
              "        text-align: right;\n",
              "    }\n",
              "</style>\n",
              "<table border=\"1\" class=\"dataframe\">\n",
              "  <thead>\n",
              "    <tr style=\"text-align: right;\">\n",
              "      <th></th>\n",
              "      <th>incident_zip</th>\n",
              "      <th>latitude</th>\n",
              "      <th>longitude</th>\n",
              "      <th>x_coordinate_state_plane</th>\n",
              "      <th>y_coordinate_state_plane</th>\n",
              "      <th>created_dates_year</th>\n",
              "      <th>created_dates_month</th>\n",
              "      <th>created_dates_day</th>\n",
              "      <th>closed_date_year</th>\n",
              "      <th>closed_date_month</th>\n",
              "      <th>closed_date_day</th>\n",
              "    </tr>\n",
              "  </thead>\n",
              "  <tbody>\n",
              "    <tr>\n",
              "      <th>incident_zip</th>\n",
              "      <td>1.000000</td>\n",
              "      <td>-0.506543</td>\n",
              "      <td>0.425773</td>\n",
              "      <td>0.426514</td>\n",
              "      <td>-0.506293</td>\n",
              "      <td>NaN</td>\n",
              "      <td>0.012698</td>\n",
              "      <td>-0.001882</td>\n",
              "      <td>-0.000663</td>\n",
              "      <td>0.005075</td>\n",
              "      <td>-0.001248</td>\n",
              "    </tr>\n",
              "    <tr>\n",
              "      <th>latitude</th>\n",
              "      <td>-0.506543</td>\n",
              "      <td>1.000000</td>\n",
              "      <td>0.380005</td>\n",
              "      <td>0.379011</td>\n",
              "      <td>1.000000</td>\n",
              "      <td>NaN</td>\n",
              "      <td>-0.007265</td>\n",
              "      <td>0.001957</td>\n",
              "      <td>0.000299</td>\n",
              "      <td>-0.001118</td>\n",
              "      <td>0.001449</td>\n",
              "    </tr>\n",
              "    <tr>\n",
              "      <th>longitude</th>\n",
              "      <td>0.425773</td>\n",
              "      <td>0.380005</td>\n",
              "      <td>1.000000</td>\n",
              "      <td>0.999999</td>\n",
              "      <td>0.380492</td>\n",
              "      <td>NaN</td>\n",
              "      <td>0.013571</td>\n",
              "      <td>-0.000418</td>\n",
              "      <td>0.000374</td>\n",
              "      <td>0.012187</td>\n",
              "      <td>0.001383</td>\n",
              "    </tr>\n",
              "    <tr>\n",
              "      <th>x_coordinate_state_plane</th>\n",
              "      <td>0.426514</td>\n",
              "      <td>0.379011</td>\n",
              "      <td>0.999999</td>\n",
              "      <td>1.000000</td>\n",
              "      <td>0.379499</td>\n",
              "      <td>NaN</td>\n",
              "      <td>0.013590</td>\n",
              "      <td>-0.000422</td>\n",
              "      <td>0.000373</td>\n",
              "      <td>0.012208</td>\n",
              "      <td>0.001381</td>\n",
              "    </tr>\n",
              "    <tr>\n",
              "      <th>y_coordinate_state_plane</th>\n",
              "      <td>-0.506293</td>\n",
              "      <td>1.000000</td>\n",
              "      <td>0.380492</td>\n",
              "      <td>0.379499</td>\n",
              "      <td>1.000000</td>\n",
              "      <td>NaN</td>\n",
              "      <td>-0.007249</td>\n",
              "      <td>0.001957</td>\n",
              "      <td>0.000299</td>\n",
              "      <td>-0.001107</td>\n",
              "      <td>0.001450</td>\n",
              "    </tr>\n",
              "    <tr>\n",
              "      <th>created_dates_year</th>\n",
              "      <td>NaN</td>\n",
              "      <td>NaN</td>\n",
              "      <td>NaN</td>\n",
              "      <td>NaN</td>\n",
              "      <td>NaN</td>\n",
              "      <td>NaN</td>\n",
              "      <td>NaN</td>\n",
              "      <td>NaN</td>\n",
              "      <td>NaN</td>\n",
              "      <td>NaN</td>\n",
              "      <td>NaN</td>\n",
              "    </tr>\n",
              "    <tr>\n",
              "      <th>created_dates_month</th>\n",
              "      <td>0.012698</td>\n",
              "      <td>-0.007265</td>\n",
              "      <td>0.013571</td>\n",
              "      <td>0.013590</td>\n",
              "      <td>-0.007249</td>\n",
              "      <td>NaN</td>\n",
              "      <td>1.000000</td>\n",
              "      <td>-0.078489</td>\n",
              "      <td>0.001749</td>\n",
              "      <td>0.963373</td>\n",
              "      <td>-0.032901</td>\n",
              "    </tr>\n",
              "    <tr>\n",
              "      <th>created_dates_day</th>\n",
              "      <td>-0.001882</td>\n",
              "      <td>0.001957</td>\n",
              "      <td>-0.000418</td>\n",
              "      <td>-0.000422</td>\n",
              "      <td>0.001957</td>\n",
              "      <td>NaN</td>\n",
              "      <td>-0.078489</td>\n",
              "      <td>1.000000</td>\n",
              "      <td>-0.000658</td>\n",
              "      <td>-0.021809</td>\n",
              "      <td>0.576420</td>\n",
              "    </tr>\n",
              "    <tr>\n",
              "      <th>closed_date_year</th>\n",
              "      <td>-0.000663</td>\n",
              "      <td>0.000299</td>\n",
              "      <td>0.000374</td>\n",
              "      <td>0.000373</td>\n",
              "      <td>0.000299</td>\n",
              "      <td>NaN</td>\n",
              "      <td>0.001749</td>\n",
              "      <td>-0.000658</td>\n",
              "      <td>1.000000</td>\n",
              "      <td>-0.004141</td>\n",
              "      <td>-0.002011</td>\n",
              "    </tr>\n",
              "    <tr>\n",
              "      <th>closed_date_month</th>\n",
              "      <td>0.005075</td>\n",
              "      <td>-0.001118</td>\n",
              "      <td>0.012187</td>\n",
              "      <td>0.012208</td>\n",
              "      <td>-0.001107</td>\n",
              "      <td>NaN</td>\n",
              "      <td>0.963373</td>\n",
              "      <td>-0.021809</td>\n",
              "      <td>-0.004141</td>\n",
              "      <td>1.000000</td>\n",
              "      <td>-0.086715</td>\n",
              "    </tr>\n",
              "    <tr>\n",
              "      <th>closed_date_day</th>\n",
              "      <td>-0.001248</td>\n",
              "      <td>0.001449</td>\n",
              "      <td>0.001383</td>\n",
              "      <td>0.001381</td>\n",
              "      <td>0.001450</td>\n",
              "      <td>NaN</td>\n",
              "      <td>-0.032901</td>\n",
              "      <td>0.576420</td>\n",
              "      <td>-0.002011</td>\n",
              "      <td>-0.086715</td>\n",
              "      <td>1.000000</td>\n",
              "    </tr>\n",
              "  </tbody>\n",
              "</table>\n",
              "</div>\n",
              "      <button class=\"colab-df-convert\" onclick=\"convertToInteractive('df-1e1823b7-93ab-48a6-91bd-aaa4dff56944')\"\n",
              "              title=\"Convert this dataframe to an interactive table.\"\n",
              "              style=\"display:none;\">\n",
              "        \n",
              "  <svg xmlns=\"http://www.w3.org/2000/svg\" height=\"24px\"viewBox=\"0 0 24 24\"\n",
              "       width=\"24px\">\n",
              "    <path d=\"M0 0h24v24H0V0z\" fill=\"none\"/>\n",
              "    <path d=\"M18.56 5.44l.94 2.06.94-2.06 2.06-.94-2.06-.94-.94-2.06-.94 2.06-2.06.94zm-11 1L8.5 8.5l.94-2.06 2.06-.94-2.06-.94L8.5 2.5l-.94 2.06-2.06.94zm10 10l.94 2.06.94-2.06 2.06-.94-2.06-.94-.94-2.06-.94 2.06-2.06.94z\"/><path d=\"M17.41 7.96l-1.37-1.37c-.4-.4-.92-.59-1.43-.59-.52 0-1.04.2-1.43.59L10.3 9.45l-7.72 7.72c-.78.78-.78 2.05 0 2.83L4 21.41c.39.39.9.59 1.41.59.51 0 1.02-.2 1.41-.59l7.78-7.78 2.81-2.81c.8-.78.8-2.07 0-2.86zM5.41 20L4 18.59l7.72-7.72 1.47 1.35L5.41 20z\"/>\n",
              "  </svg>\n",
              "      </button>\n",
              "      \n",
              "  <style>\n",
              "    .colab-df-container {\n",
              "      display:flex;\n",
              "      flex-wrap:wrap;\n",
              "      gap: 12px;\n",
              "    }\n",
              "\n",
              "    .colab-df-convert {\n",
              "      background-color: #E8F0FE;\n",
              "      border: none;\n",
              "      border-radius: 50%;\n",
              "      cursor: pointer;\n",
              "      display: none;\n",
              "      fill: #1967D2;\n",
              "      height: 32px;\n",
              "      padding: 0 0 0 0;\n",
              "      width: 32px;\n",
              "    }\n",
              "\n",
              "    .colab-df-convert:hover {\n",
              "      background-color: #E2EBFA;\n",
              "      box-shadow: 0px 1px 2px rgba(60, 64, 67, 0.3), 0px 1px 3px 1px rgba(60, 64, 67, 0.15);\n",
              "      fill: #174EA6;\n",
              "    }\n",
              "\n",
              "    [theme=dark] .colab-df-convert {\n",
              "      background-color: #3B4455;\n",
              "      fill: #D2E3FC;\n",
              "    }\n",
              "\n",
              "    [theme=dark] .colab-df-convert:hover {\n",
              "      background-color: #434B5C;\n",
              "      box-shadow: 0px 1px 3px 1px rgba(0, 0, 0, 0.15);\n",
              "      filter: drop-shadow(0px 1px 2px rgba(0, 0, 0, 0.3));\n",
              "      fill: #FFFFFF;\n",
              "    }\n",
              "  </style>\n",
              "\n",
              "      <script>\n",
              "        const buttonEl =\n",
              "          document.querySelector('#df-1e1823b7-93ab-48a6-91bd-aaa4dff56944 button.colab-df-convert');\n",
              "        buttonEl.style.display =\n",
              "          google.colab.kernel.accessAllowed ? 'block' : 'none';\n",
              "\n",
              "        async function convertToInteractive(key) {\n",
              "          const element = document.querySelector('#df-1e1823b7-93ab-48a6-91bd-aaa4dff56944');\n",
              "          const dataTable =\n",
              "            await google.colab.kernel.invokeFunction('convertToInteractive',\n",
              "                                                     [key], {});\n",
              "          if (!dataTable) return;\n",
              "\n",
              "          const docLinkHtml = 'Like what you see? Visit the ' +\n",
              "            '<a target=\"_blank\" href=https://colab.research.google.com/notebooks/data_table.ipynb>data table notebook</a>'\n",
              "            + ' to learn more about interactive tables.';\n",
              "          element.innerHTML = '';\n",
              "          dataTable['output_type'] = 'display_data';\n",
              "          await google.colab.output.renderOutput(dataTable, element);\n",
              "          const docLink = document.createElement('div');\n",
              "          docLink.innerHTML = docLinkHtml;\n",
              "          element.appendChild(docLink);\n",
              "        }\n",
              "      </script>\n",
              "    </div>\n",
              "  </div>\n",
              "  "
            ]
          },
          "metadata": {},
          "execution_count": 11
        }
      ],
      "source": [
        "data.corr()"
      ]
    },
    {
      "cell_type": "code",
      "execution_count": 12,
      "metadata": {
        "colab": {
          "base_uri": "https://localhost:8080/"
        },
        "id": "faoflO0YmNVY",
        "outputId": "d622fea3-a251-4c5e-fc3b-d03e36620943"
      },
      "outputs": [
        {
          "output_type": "execute_result",
          "data": {
            "text/plain": [
              "array(['Blocked Driveway', 'Street Condition', 'Noise - Residential',\n",
              "       'Noise - Street/Sidewalk', 'HEAT/HOT WATER',\n",
              "       'Request Large Bulky Item Collection', 'Illegal Parking', 'Noise',\n",
              "       'UNSANITARY CONDITION', 'Water System'], dtype=object)"
            ]
          },
          "metadata": {},
          "execution_count": 12
        }
      ],
      "source": [
        "n_largest_complaint_types= data.complaint_type.value_counts().nlargest(10).keys().tolist()\n",
        "\n",
        "# wanted to combine all other complaint_types into 'other' except ones in nlargest\n",
        "# data.loc[~data[\"complaint_type\"].isin(n_largest_complaint_types)] = 'Other'\n",
        "\n",
        "\n",
        "data= data.loc[data[\"complaint_type\"].isin(n_largest_complaint_types)] \n",
        "data.complaint_type.unique()"
      ]
    },
    {
      "cell_type": "code",
      "execution_count": 13,
      "metadata": {
        "id": "f5jYmERQFGyQ"
      },
      "outputs": [],
      "source": [
        "features , labels = data.drop('complaint_type', axis= 1), data['complaint_type']\n",
        "del data"
      ]
    },
    {
      "cell_type": "code",
      "execution_count": 14,
      "metadata": {
        "id": "YLqdsuLQFtEN"
      },
      "outputs": [],
      "source": [
        "\n",
        "\n",
        "categorical_columns = features.select_dtypes(include=['object']).columns.tolist()\n",
        "for column in categorical_columns:\n",
        "    tempdf = pd.get_dummies(features[column])\n",
        "    features= pd.merge(\n",
        "        left=features,\n",
        "        right=tempdf,\n",
        "        left_index=True,\n",
        "        right_index=True,\n",
        "    )\n",
        "    features = features.drop(columns=column)\n",
        "# y= pd.get_dummies(y)"
      ]
    },
    {
      "cell_type": "code",
      "execution_count": 15,
      "metadata": {
        "id": "6RqDklwpzVJ3"
      },
      "outputs": [],
      "source": [
        "\"\"\"Splitting into train-test, also applyed stratification for keeping a balanced dataset\"\"\"\n",
        "\n",
        "X_train, X_test, y_train, y_test = train_test_split(features, labels ,stratify=labels, test_size=0.2 ,shuffle= True)"
      ]
    },
    {
      "cell_type": "markdown",
      "metadata": {
        "id": "KY3nNB3W5DH_"
      },
      "source": [
        "# **Feature Selection for Classification**"
      ]
    },
    {
      "cell_type": "markdown",
      "source": [
        "*Mutual information measures the dependance between two variables. Here we are measuring every column againts the labels to see which columns has the most correlation to the target.*"
      ],
      "metadata": {
        "id": "dOdp6DyIqEh_"
      }
    },
    {
      "cell_type": "code",
      "execution_count": 16,
      "metadata": {
        "colab": {
          "base_uri": "https://localhost:8080/"
        },
        "id": "eo4Rd9e6w4yO",
        "outputId": "32dffe12-9783-41e0-9d3b-fb8972fcc128"
      },
      "outputs": [
        {
          "output_type": "execute_result",
          "data": {
            "text/plain": [
              "array([2.07384482e-01, 8.38178825e-01, 8.39131635e-01, 6.82209399e-01,\n",
              "       7.35448167e-01, 1.10595935e-02, 1.21380209e-01, 9.29995201e-03,\n",
              "       1.36330678e-02, 1.13267287e-01, 1.36355694e-02, 3.21341818e-01,\n",
              "       2.56813055e-01, 3.73594454e-01, 5.10545310e-01, 7.05432772e-01,\n",
              "       3.20098229e-01, 7.29342720e-04, 0.00000000e+00, 1.25523003e-03,\n",
              "       2.08389607e-04, 0.00000000e+00, 1.28218589e-03, 2.58024701e-04,\n",
              "       0.00000000e+00, 5.76449119e-05, 5.10376603e-01, 4.43448541e-01,\n",
              "       9.53961428e-05, 0.00000000e+00, 3.73322551e-01, 6.02084028e-04,\n",
              "       7.69030948e-02, 5.84177168e-01, 2.05158380e-04, 8.88763764e-03,\n",
              "       0.00000000e+00, 7.27472490e-03, 1.08740284e-03, 5.59045492e-03,\n",
              "       2.28505185e-03, 0.00000000e+00, 4.04947886e-04, 3.21241365e-02,\n",
              "       6.19082117e-03, 1.90719925e-03, 0.00000000e+00, 8.89290638e-04,\n",
              "       1.88265366e-03, 0.00000000e+00, 5.69085752e-04, 4.46218947e-03,\n",
              "       2.45996248e-03, 4.08794398e-03, 1.92453029e-03, 3.93764559e-03,\n",
              "       2.31824570e-03, 3.31905093e-04, 4.62363501e-03, 2.15363447e-03,\n",
              "       5.62332541e-04, 6.98033291e-03, 1.72603690e-03, 3.41440461e-03,\n",
              "       2.11665931e-03, 0.00000000e+00, 7.64091318e-03, 2.63507827e-03,\n",
              "       3.01141738e-03, 1.03482582e-04, 8.88356868e-04, 0.00000000e+00,\n",
              "       4.04395750e-04, 1.46568722e-03, 2.18958528e-03, 2.09746107e-03,\n",
              "       7.71040651e-03, 1.82827701e-03, 5.59717624e-03, 1.52060482e-03,\n",
              "       5.87871880e-04, 3.30127200e-04, 4.38103053e-03, 2.19686946e-03,\n",
              "       2.58750638e-03, 2.79363661e-03, 1.32037037e-03, 1.88479254e-03,\n",
              "       3.18921750e-03, 2.77165127e-04, 3.06615526e-02, 5.87265773e-04,\n",
              "       1.55463795e-03, 4.60273812e-03, 2.18463132e-03, 4.34135262e-03,\n",
              "       2.36366217e-05, 1.79042601e-03, 3.73092031e-03, 1.05192566e-03,\n",
              "       2.45765259e-03, 6.01682343e-03, 2.31080393e-03, 6.93270236e-04,\n",
              "       1.79911394e-03, 8.57206731e-04, 6.68198661e-03, 1.28508560e-03,\n",
              "       2.96303398e-03, 4.33219328e-04, 3.59040000e-03, 4.90219914e-03,\n",
              "       5.92506575e-04, 1.21526363e-02, 6.70282241e-04, 1.24644749e-03,\n",
              "       3.16716093e-03, 3.98629479e-03, 3.88022039e-03, 4.19482517e-04,\n",
              "       8.37437032e-04, 4.65227611e-03, 3.99186123e-03, 1.65804642e-03,\n",
              "       4.21738679e-03, 4.67215042e-03, 0.00000000e+00, 3.25484786e-02,\n",
              "       7.49462750e-04, 1.25118532e-02, 6.48789569e-04, 8.94170392e-04])"
            ]
          },
          "metadata": {},
          "execution_count": 16
        }
      ],
      "source": [
        "from sklearn.feature_selection import mutual_info_classif\n",
        "mutual_info= mutual_info_classif(X_train,y_train)\n",
        "mutual_info"
      ]
    },
    {
      "cell_type": "code",
      "execution_count": 17,
      "metadata": {
        "colab": {
          "base_uri": "https://localhost:8080/"
        },
        "id": "e7SuzrNG_kwK",
        "outputId": "b07746c4-9446-44eb-9b18-6c8abb5fd4a1"
      },
      "outputs": [
        {
          "output_type": "execute_result",
          "data": {
            "text/plain": [
              "longitude                   0.839132\n",
              "latitude                    0.838179\n",
              "y_coordinate_state_plane    0.735448\n",
              "NYPD                        0.705433\n",
              "x_coordinate_state_plane    0.682209\n",
              "                              ...   \n",
              "Bridge                      0.000000\n",
              "Floral Park                 0.000000\n",
              "HOLLIS                      0.000000\n",
              "Curb                        0.000000\n",
              "School Safety Zone          0.000000\n",
              "Length: 132, dtype: float64"
            ]
          },
          "metadata": {},
          "execution_count": 17
        }
      ],
      "source": [
        "mutual_info= pd.Series(mutual_info)\n",
        "mutual_info.index = features.columns\n",
        "mutual_info.sort_values(ascending=False)"
      ]
    },
    {
      "cell_type": "code",
      "execution_count": 18,
      "metadata": {
        "colab": {
          "base_uri": "https://localhost:8080/",
          "height": 749
        },
        "id": "KbbTiRYKAcEz",
        "outputId": "35a318e6-faa5-449b-8851-d2a3063ee779"
      },
      "outputs": [
        {
          "output_type": "execute_result",
          "data": {
            "text/plain": [
              "Text(0.5, 1.0, 'Best 20 features')"
            ]
          },
          "metadata": {},
          "execution_count": 18
        },
        {
          "output_type": "display_data",
          "data": {
            "text/plain": [
              "<Figure size 1440x720 with 1 Axes>"
            ],
            "image/png": "[encoded data removed]"
          },
          "metadata": {
            "needs_background": "light"
          }
        }
      ],
      "source": [
        "num_components= 20\n",
        "components = mutual_info.sort_values(ascending=False).nlargest(num_components).keys().tolist()\n",
        "mutual_info.sort_values(ascending=False).nlargest(num_components).plot(kind=\"bar\", figsize=(20,10))\n",
        "plt.title(f\"Best {num_components} features\")"
      ]
    },
    {
      "cell_type": "code",
      "execution_count": 19,
      "metadata": {
        "id": "btNO_aWQw2fr"
      },
      "outputs": [],
      "source": [
        "\n",
        "X_train_feature_selected = X_train[[c for c in X_train.columns if c in components]]\n",
        "X_test_feature_selected = X_test[[c for c in X_test.columns if c in components]]\n",
        "del X_train\n",
        "del X_test"
      ]
    },
    {
      "cell_type": "markdown",
      "metadata": {
        "id": "xPkxney2O7Wy"
      },
      "source": [
        "# **Predicting COMPLAINT TYPE given selected features**"
      ]
    },
    {
      "cell_type": "code",
      "execution_count": 20,
      "metadata": {
        "colab": {
          "base_uri": "https://localhost:8080/"
        },
        "id": "MSNbxjxWwy6b",
        "outputId": "12e4b096-df9f-4af6-bf8d-b5c7f1f58eac"
      },
      "outputs": [
        {
          "output_type": "stream",
          "name": "stdout",
          "text": [
            "Accuracy Score:  0.8742406799588498\n",
            "                                     precision    recall  f1-score   support\n",
            "\n",
            "                   Blocked Driveway       0.71      0.72      0.71     16848\n",
            "                     HEAT/HOT WATER       0.91      0.93      0.92     25096\n",
            "                    Illegal Parking       0.77      0.77      0.77     24055\n",
            "                              Noise       0.82      0.82      0.82      7361\n",
            "                Noise - Residential       0.99      0.99      0.99     28843\n",
            "            Noise - Street/Sidewalk       0.78      0.77      0.78     12751\n",
            "Request Large Bulky Item Collection       1.00      1.00      1.00     19905\n",
            "                   Street Condition       1.00      1.00      1.00     11630\n",
            "               UNSANITARY CONDITION       0.76      0.70      0.73      8238\n",
            "                       Water System       0.85      0.85      0.85      8577\n",
            "\n",
            "                           accuracy                           0.87    163304\n",
            "                          macro avg       0.86      0.85      0.86    163304\n",
            "                       weighted avg       0.87      0.87      0.87    163304\n",
            "\n",
            "ROC_AUC:  0.9279791923668055\n"
          ]
        }
      ],
      "source": [
        " #Decision tree classifier\n",
        "dt_clf = DecisionTreeClassifier(random_state=42)\n",
        "dt_clf.fit(X_train_feature_selected,y_train)\n",
        "y_pred_dt=dt_clf.predict(X_test_feature_selected)\n",
        "print(\"Accuracy Score: \",accuracy_score(y_test,y_pred_dt))\n",
        "print(classification_report(y_test,y_pred_dt))\n",
        "print(\"ROC_AUC: \",roc_auc_score(y_test, dt_clf.predict_proba(X_test_feature_selected), multi_class='ovr'))\n"
      ]
    },
    {
      "cell_type": "code",
      "execution_count": 22,
      "metadata": {
        "id": "W9OszhyF7Hrs"
      },
      "outputs": [],
      "source": [
        "x_tr,y_tr= np.array(X_train_feature_selected), np.array(y_train)\n",
        "x_ts, y_tst = np.array(X_test_feature_selected), np.array(y_test)\n"
      ]
    },
    {
      "cell_type": "code",
      "execution_count": 26,
      "metadata": {
        "colab": {
          "base_uri": "https://localhost:8080/"
        },
        "id": "sCOeLvLgeCvR",
        "outputId": "d2bb103f-de59-4c37-c37e-5dbe1479a7a0"
      },
      "outputs": [
        {
          "output_type": "stream",
          "name": "stdout",
          "text": [
            "Accuracy Score:  0.8808663596727575\n",
            "                                     precision    recall  f1-score   support\n",
            "\n",
            "                   Blocked Driveway       0.72      0.71      0.71     16848\n",
            "                     HEAT/HOT WATER       0.91      0.93      0.92     25096\n",
            "                    Illegal Parking       0.77      0.78      0.78     24055\n",
            "                              Noise       0.85      0.83      0.84      7361\n",
            "                Noise - Residential       0.99      0.99      0.99     28843\n",
            "            Noise - Street/Sidewalk       0.81      0.78      0.79     12751\n",
            "Request Large Bulky Item Collection       1.00      1.00      1.00     19905\n",
            "                   Street Condition       1.00      1.00      1.00     11630\n",
            "               UNSANITARY CONDITION       0.78      0.73      0.75      8238\n",
            "                       Water System       0.86      0.87      0.87      8577\n",
            "\n",
            "                           accuracy                           0.88    163304\n",
            "                          macro avg       0.87      0.86      0.87    163304\n",
            "                       weighted avg       0.88      0.88      0.88    163304\n",
            "\n",
            "ROC_AUC:  0.9897960951115818\n"
          ]
        }
      ],
      "source": [
        "\n",
        "#Random Forest Classifier\n",
        "rnd_clf= RandomForestClassifier(n_estimators= 500, n_jobs= -1)\n",
        "rnd_clf.fit(X_train_feature_selected, y_train)\n",
        "y_pred_rf = rnd_clf.predict(X_test_feature_selected)\n",
        "print(\"Accuracy Score: \",accuracy_score(y_test,y_pred_rf))\n",
        "print(classification_report(y_test,y_pred_rf))\n",
        "print(\"ROC_AUC: \",roc_auc_score(y_test, rnd_clf.predict_proba(X_test_feature_selected), multi_class='ovr'))\n"
      ]
    },
    {
      "cell_type": "code",
      "execution_count": 30,
      "metadata": {
        "colab": {
          "base_uri": "https://localhost:8080/"
        },
        "id": "cWz4oE9Dsku_",
        "outputId": "010c4c84-dfad-451a-86dd-964461da507b"
      },
      "outputs": [
        {
          "output_type": "stream",
          "name": "stdout",
          "text": [
            "Accuracy Score:  0.1766215157007789\n"
          ]
        },
        {
          "output_type": "stream",
          "name": "stderr",
          "text": [
            "/usr/local/lib/python3.7/dist-packages/sklearn/metrics/_classification.py:1318: UndefinedMetricWarning: Precision and F-score are ill-defined and being set to 0.0 in labels with no predicted samples. Use `zero_division` parameter to control this behavior.\n",
            "  _warn_prf(average, modifier, msg_start, len(result))\n",
            "/usr/local/lib/python3.7/dist-packages/sklearn/metrics/_classification.py:1318: UndefinedMetricWarning: Precision and F-score are ill-defined and being set to 0.0 in labels with no predicted samples. Use `zero_division` parameter to control this behavior.\n",
            "  _warn_prf(average, modifier, msg_start, len(result))\n",
            "/usr/local/lib/python3.7/dist-packages/sklearn/metrics/_classification.py:1318: UndefinedMetricWarning: Precision and F-score are ill-defined and being set to 0.0 in labels with no predicted samples. Use `zero_division` parameter to control this behavior.\n",
            "  _warn_prf(average, modifier, msg_start, len(result))\n",
            "/usr/local/lib/python3.7/dist-packages/sklearn/base.py:444: UserWarning: X has feature names, but MLPClassifier was fitted without feature names\n",
            "  f\"X has feature names, but {self.__class__.__name__} was fitted without\"\n"
          ]
        },
        {
          "output_type": "stream",
          "name": "stdout",
          "text": [
            "                                     precision    recall  f1-score   support\n",
            "\n",
            "                   Blocked Driveway       0.00      0.00      0.00     16848\n",
            "                     HEAT/HOT WATER       0.00      0.00      0.00     25096\n",
            "                    Illegal Parking       0.00      0.00      0.00     24055\n",
            "                              Noise       0.00      0.00      0.00      7361\n",
            "                Noise - Residential       0.18      1.00      0.30     28843\n",
            "            Noise - Street/Sidewalk       0.00      0.00      0.00     12751\n",
            "Request Large Bulky Item Collection       0.00      0.00      0.00     19905\n",
            "                   Street Condition       0.00      0.00      0.00     11630\n",
            "               UNSANITARY CONDITION       0.00      0.00      0.00      8238\n",
            "                       Water System       0.00      0.00      0.00      8577\n",
            "\n",
            "                           accuracy                           0.18    163304\n",
            "                          macro avg       0.02      0.10      0.03    163304\n",
            "                       weighted avg       0.03      0.18      0.05    163304\n",
            "\n",
            "ROC_AUC:  0.5\n"
          ]
        }
      ],
      "source": [
        "from sklearn.neural_network import MLPClassifier\n",
        "from sklearn.datasets import make_classification\n",
        "mlp_clf= MLPClassifier(random_state=1, max_iter=100).fit(np.array(X_train_feature_selected),y_train)\n",
        "y_pred_mlp= mlp_clf.predict(np.array(X_test_feature_selected))\n",
        "print(\"Accuracy Score: \",accuracy_score(y_test,y_pred_mlp))\n",
        "print(classification_report(y_test,y_pred_mlp))\n",
        "print(\"ROC_AUC: \",roc_auc_score(y_test, mlp_clf.predict_proba(X_test_feature_selected), multi_class='ovr'))"
      ]
    },
    {
      "cell_type": "code",
      "source": [
        "X_test_feature_selected.shape"
      ],
      "metadata": {
        "id": "egJ4hjGlkMnl"
      },
      "execution_count": null,
      "outputs": []
    },
    {
      "cell_type": "markdown",
      "source": [
        "**Conclusion**\n",
        "\n",
        "* Overall Random-Forest provides a better Precision and Recall.\n",
        "* Unable to complete the entire data product due to time shortage.\n",
        "*   Typically I would visualize the performance of all the models in terms to each other and make a pipeline. I would also make an API and expose the classifier to an endpoint to predict data sent in the payload of http post requests and return the classified label. There would also be a pydantic model present in the post request to validate the json data and do preprocessing.  \n",
        "\n"
      ],
      "metadata": {
        "id": "8RjbPr44nyfO"
      }
    }
  ],
  "metadata": {
    "accelerator": "TPU",
    "colab": {
      "collapsed_sections": [],
      "machine_shape": "hm",
      "name": "Prediction_311.ipynb",
      "provenance": []
    },
    "kernelspec": {
      "display_name": "Python 3",
      "name": "python3"
    },
    "language_info": {
      "name": "python"
    }
  },
  "nbformat": 4,
  "nbformat_minor": 0
}